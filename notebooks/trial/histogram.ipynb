{
 "cells": [
  {
   "cell_type": "code",
   "execution_count": 40,
   "metadata": {},
   "outputs": [],
   "source": [
    "%matplotlib inline\n",
    "\n",
    "import pylab as plt\n",
    "import numpy as np\n",
    "\n",
    "from tensorflow.python.ops.histogram_ops import histogram_fixed_width,histogram_fixed_width_bins\n",
    "from tensorflow.python.ops.random_ops import random_uniform as uniform\n",
    "\n",
    "from tensorflow.keras.layers import Dense,Input\n",
    "from tensorflow.keras.models import Model\n",
    "from tensorflow.keras.optimizers import RMSprop\n",
    "from tensorflow.keras.losses import mse"
   ]
  },
  {
   "cell_type": "code",
   "execution_count": 30,
   "metadata": {},
   "outputs": [],
   "source": [
    "# histogram_fixed_width?"
   ]
  },
  {
   "cell_type": "code",
   "execution_count": 55,
   "metadata": {},
   "outputs": [],
   "source": [
    "y_dmd = np.linspace(-1,1,20)\n",
    "y_dmd = np.exp(-1*(y_dmd**2))\n",
    "y_dmd = y_dmd-y_dmd.min()\n",
    "y_dmd = 1000*y_dmd/y_dmd.sum()"
   ]
  },
  {
   "cell_type": "code",
   "execution_count": 56,
   "metadata": {},
   "outputs": [
    {
     "data": {
      "text/plain": [
       "[<matplotlib.lines.Line2D at 0x7f775068f898>]"
      ]
     },
     "execution_count": 56,
     "metadata": {},
     "output_type": "execute_result"
    },
    {
     "data": {
      "image/png": "[encoded data removed]",
      "text/plain": [
       "<Figure size 432x288 with 1 Axes>"
      ]
     },
     "metadata": {
      "needs_background": "light"
     },
     "output_type": "display_data"
    }
   ],
   "source": [
    "plt.plot(y_dmd)"
   ]
  },
  {
   "cell_type": "code",
   "execution_count": 72,
   "metadata": {},
   "outputs": [],
   "source": [
    "x_in = Input(shape=(1000))\n",
    "\n",
    "x = Dense(100)(x_in)\n",
    "x = Dense(1000)(x)\n",
    "\n",
    "\n",
    "# hist = histogram_fixed_width(x,\n",
    "#                              [0,1],\n",
    "#                              nbins=20)\n",
    "# hist = cast_to_floatx(hist)\n",
    "\n",
    "hist = K.sum(x,axis=-1)\n",
    "hist = cast_to_floatx(hist)\n",
    "\n",
    "model = Model(inputs=x_in,outputs=hist)\n",
    "model.compile(loss=mse)"
   ]
  },
  {
   "cell_type": "code",
   "execution_count": 73,
   "metadata": {},
   "outputs": [
    {
     "name": "stdout",
     "output_type": "stream",
     "text": [
      "Model: \"model_9\"\n",
      "_________________________________________________________________\n",
      "Layer (type)                 Output Shape              Param #   \n",
      "=================================================================\n",
      "input_10 (InputLayer)        [(None, 1000)]            0         \n",
      "_________________________________________________________________\n",
      "dense_20 (Dense)             (None, 100)               100100    \n",
      "_________________________________________________________________\n",
      "dense_21 (Dense)             (None, 1000)              101000    \n",
      "_________________________________________________________________\n",
      "tf_op_layer_Sum_1 (TensorFlo [(None,)]                 0         \n",
      "=================================================================\n",
      "Total params: 201,100\n",
      "Trainable params: 201,100\n",
      "Non-trainable params: 0\n",
      "_________________________________________________________________\n"
     ]
    }
   ],
   "source": [
    "model.summary()"
   ]
  },
  {
   "cell_type": "code",
   "execution_count": 74,
   "metadata": {},
   "outputs": [
    {
     "data": {
      "text/plain": [
       "(2000,)"
      ]
     },
     "execution_count": 74,
     "metadata": {},
     "output_type": "execute_result"
    }
   ],
   "source": [
    "x_train = uniform((2000,1000),\n",
    "            minval=0,\n",
    "            maxval=1)\n",
    "y_train = 2000*[y_dmd]\n",
    "y_train = 2000*[2]\n",
    "y_train = np.array(y_train)\n",
    "y_train.shape"
   ]
  },
  {
   "cell_type": "code",
   "execution_count": 76,
   "metadata": {},
   "outputs": [
    {
     "name": "stdout",
     "output_type": "stream",
     "text": [
      "Train on 2000 samples\n",
      "Epoch 1/50\n",
      "2000/2000 [==============================] - 0s 110us/sample - loss: 4.9391\n",
      "Epoch 2/50\n",
      "2000/2000 [==============================] - 0s 44us/sample - loss: 0.4687\n",
      "Epoch 3/50\n",
      "2000/2000 [==============================] - 0s 45us/sample - loss: 0.9421\n",
      "Epoch 4/50\n",
      "2000/2000 [==============================] - 0s 47us/sample - loss: 29042.1765\n",
      "Epoch 5/50\n",
      "2000/2000 [==============================] - 0s 44us/sample - loss: 1065.5450\n",
      "Epoch 6/50\n",
      "2000/2000 [==============================] - 0s 51us/sample - loss: 664.9516\n",
      "Epoch 7/50\n",
      "2000/2000 [==============================] - 0s 64us/sample - loss: 277.3488\n",
      "Epoch 8/50\n",
      "2000/2000 [==============================] - 0s 54us/sample - loss: 203.7635\n",
      "Epoch 9/50\n",
      "2000/2000 [==============================] - 0s 47us/sample - loss: 6.3150\n",
      "Epoch 10/50\n",
      "2000/2000 [==============================] - 0s 50us/sample - loss: 1.0667\n",
      "Epoch 11/50\n",
      "2000/2000 [==============================] - 0s 58us/sample - loss: 39292.7696\n",
      "Epoch 12/50\n",
      "2000/2000 [==============================] - 0s 57us/sample - loss: 1434.1391\n",
      "Epoch 13/50\n",
      "2000/2000 [==============================] - 0s 58us/sample - loss: 890.1873\n",
      "Epoch 14/50\n",
      "2000/2000 [==============================] - 0s 53us/sample - loss: 423.6569\n",
      "Epoch 15/50\n",
      "2000/2000 [==============================] - 0s 55us/sample - loss: 107.0527\n",
      "Epoch 16/50\n",
      "2000/2000 [==============================] - 0s 43us/sample - loss: 11.4763\n",
      "Epoch 17/50\n",
      "2000/2000 [==============================] - 0s 46us/sample - loss: 7.7654\n",
      "Epoch 18/50\n",
      "2000/2000 [==============================] - 0s 49us/sample - loss: 19814.3566\n",
      "Epoch 19/50\n",
      "2000/2000 [==============================] - 0s 48us/sample - loss: 45.2031\n",
      "Epoch 20/50\n",
      "2000/2000 [==============================] - 0s 53us/sample - loss: 602.0646\n",
      "Epoch 21/50\n",
      "2000/2000 [==============================] - 0s 45us/sample - loss: 189.6314\n",
      "Epoch 22/50\n",
      "2000/2000 [==============================] - 0s 48us/sample - loss: 2.2298\n",
      "Epoch 23/50\n",
      "2000/2000 [==============================] - 0s 51us/sample - loss: 21033.6038\n",
      "Epoch 24/50\n",
      "2000/2000 [==============================] - 0s 60us/sample - loss: 585.9683\n",
      "Epoch 25/50\n",
      "2000/2000 [==============================] - 0s 57us/sample - loss: 432.9188\n",
      "Epoch 26/50\n",
      "2000/2000 [==============================] - 0s 57us/sample - loss: 408.3292\n",
      "Epoch 27/50\n",
      "2000/2000 [==============================] - 0s 75us/sample - loss: 1.5632\n",
      "Epoch 28/50\n",
      "2000/2000 [==============================] - 0s 60us/sample - loss: 2.8556\n",
      "Epoch 29/50\n",
      "2000/2000 [==============================] - 0s 48us/sample - loss: 17032.8202\n",
      "Epoch 30/50\n",
      "2000/2000 [==============================] - 0s 59us/sample - loss: 350.6328\n",
      "Epoch 31/50\n",
      "2000/2000 [==============================] - 0s 59us/sample - loss: 575.5838\n",
      "Epoch 32/50\n",
      "2000/2000 [==============================] - 0s 53us/sample - loss: 276.0916\n",
      "Epoch 33/50\n",
      "2000/2000 [==============================] - 0s 53us/sample - loss: 65.9031\n",
      "Epoch 34/50\n",
      "2000/2000 [==============================] - 0s 46us/sample - loss: 12685.1926\n",
      "Epoch 35/50\n",
      "2000/2000 [==============================] - 0s 48us/sample - loss: 50.3109\n",
      "Epoch 36/50\n",
      "2000/2000 [==============================] - 0s 47us/sample - loss: 437.9255\n",
      "Epoch 37/50\n",
      "2000/2000 [==============================] - 0s 52us/sample - loss: 121.6738\n",
      "Epoch 38/50\n",
      "2000/2000 [==============================] - 0s 51us/sample - loss: 9.1514\n",
      "Epoch 39/50\n",
      "2000/2000 [==============================] - 0s 49us/sample - loss: 0.8781\n",
      "Epoch 40/50\n",
      "2000/2000 [==============================] - 0s 51us/sample - loss: 18192.9304\n",
      "Epoch 41/50\n",
      "2000/2000 [==============================] - 0s 57us/sample - loss: 821.0568\n",
      "Epoch 42/50\n",
      "2000/2000 [==============================] - 0s 61us/sample - loss: 41.6653\n",
      "Epoch 43/50\n",
      "2000/2000 [==============================] - 0s 49us/sample - loss: 100.4059\n",
      "Epoch 44/50\n",
      "2000/2000 [==============================] - 0s 48us/sample - loss: 4991.7261\n",
      "Epoch 45/50\n",
      "2000/2000 [==============================] - 0s 48us/sample - loss: 264.9690\n",
      "Epoch 46/50\n",
      "2000/2000 [==============================] - 0s 51us/sample - loss: 47.4725\n",
      "Epoch 47/50\n",
      "2000/2000 [==============================] - 0s 62us/sample - loss: 19.9713\n",
      "Epoch 48/50\n",
      "2000/2000 [==============================] - 0s 76us/sample - loss: 10499.8104\n",
      "Epoch 49/50\n",
      "2000/2000 [==============================] - 0s 56us/sample - loss: 52.6188\n",
      "Epoch 50/50\n",
      "2000/2000 [==============================] - 0s 46us/sample - loss: 591.6673\n"
     ]
    },
    {
     "data": {
      "text/plain": [
       "<tensorflow.python.keras.callbacks.History at 0x7f773844b8d0>"
      ]
     },
     "execution_count": 76,
     "metadata": {},
     "output_type": "execute_result"
    }
   ],
   "source": [
    "model.fit(x_train,y_train,epochs=50,batch_size=100)"
   ]
  },
  {
   "cell_type": "code",
   "execution_count": 48,
   "metadata": {},
   "outputs": [
    {
     "data": {
      "text/plain": [
       "'float32'"
      ]
     },
     "execution_count": 48,
     "metadata": {},
     "output_type": "execute_result"
    }
   ],
   "source": [
    "from tensorflow.keras.backend import cast_to_floatx\n",
    "from tensorflow.keras import backend as K\n",
    "K.floatx()"
   ]
  },
  {
   "cell_type": "code",
   "execution_count": 47,
   "metadata": {},
   "outputs": [],
   "source": [
    "cast_to_floatx?"
   ]
  },
  {
   "cell_type": "code",
   "execution_count": 23,
   "metadata": {},
   "outputs": [],
   "source": [
    "# histogram_fixed_width?"
   ]
  },
  {
   "cell_type": "code",
   "execution_count": 24,
   "metadata": {},
   "outputs": [
    {
     "data": {
      "text/plain": [
       "(1.7762184e-05, 0.99997973)"
      ]
     },
     "execution_count": 24,
     "metadata": {},
     "output_type": "execute_result"
    }
   ],
   "source": [
    "xp = x.numpy()\n",
    "xp.min(),xp.max()"
   ]
  },
  {
   "cell_type": "code",
   "execution_count": 27,
   "metadata": {},
   "outputs": [],
   "source": []
  },
  {
   "cell_type": "code",
   "execution_count": 28,
   "metadata": {},
   "outputs": [
    {
     "data": {
      "text/plain": [
       "[<matplotlib.lines.Line2D at 0x7f77539fe518>]"
      ]
     },
     "execution_count": 28,
     "metadata": {},
     "output_type": "execute_result"
    },
    {
     "data": {
      "image/png": "[encoded data removed]",
      "text/plain": [
       "<Figure size 432x288 with 1 Axes>"
      ]
     },
     "metadata": {
      "needs_background": "light"
     },
     "output_type": "display_data"
    }
   ],
   "source": [
    "plt.plot(hist.numpy())"
   ]
  },
  {
   "cell_type": "code",
   "execution_count": null,
   "metadata": {},
   "outputs": [],
   "source": []
  }
 ],
 "metadata": {
  "kernelspec": {
   "display_name": "Python 3",
   "language": "python",
   "name": "python3"
  },
  "language_info": {
   "codemirror_mode": {
    "name": "ipython",
    "version": 3
   },
   "file_extension": ".py",
   "mimetype": "text/x-python",
   "name": "python",
   "nbconvert_exporter": "python",
   "pygments_lexer": "ipython3",
   "version": "3.6.6"
  }
 },
 "nbformat": 4,
 "nbformat_minor": 2
}
