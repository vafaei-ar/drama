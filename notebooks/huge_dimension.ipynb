{
 "cells": [
  {
   "cell_type": "markdown",
   "metadata": {},
   "source": [
    "# Unsupervised outliers detection (event detection)"
   ]
  },
  {
   "cell_type": "code",
   "execution_count": 1,
   "metadata": {
    "collapsed": false
   },
   "outputs": [],
   "source": [
    "import sys \n",
    "sys.path.insert(0,'../')\n",
    "import pymce2 as mce\n",
    "\n",
    "import numpy as np\n",
    "\n",
    "from sklearn.cluster import AgglomerativeClustering\n",
    "from sklearn.decomposition import PCA,TruncatedSVD,NMF,FastICA\n",
    "from sklearn.metrics import roc_auc_score\n",
    "\n",
    "import matplotlib.pylab as plt\n",
    "from matplotlib import gridspec\n",
    "%matplotlib inline"
   ]
  },
  {
   "cell_type": "markdown",
   "metadata": {},
   "source": [
    "## Defining clustering algorithm as clustering fucntion"
   ]
  },
  {
   "cell_type": "code",
   "execution_count": 2,
   "metadata": {
    "collapsed": true
   },
   "outputs": [],
   "source": [
    "agg = AgglomerativeClustering()"
   ]
  },
  {
   "cell_type": "markdown",
   "metadata": {},
   "source": [
    "## Signal synthesis"
   ]
  },
  {
   "cell_type": "code",
   "execution_count": 5,
   "metadata": {
    "collapsed": false
   },
   "outputs": [
    {
     "data": {
      "image/png": "[encoded data removed]",
      "text/plain": [
       "<matplotlib.figure.Figure at 0x7f1a5cdf5c50>"
      ]
     },
     "metadata": {},
     "output_type": "display_data"
    }
   ],
   "source": [
    "i_sig = 1\n",
    "n_ftrs = 5000\n",
    "noise = 0.2\n",
    "# noise = 0.0\n",
    "scl = 0.01\n",
    "sft = 0.01\n",
    "\n",
    "# x = np.tile(np.linspace(0,1,n_ftrs),2)\n",
    "\n",
    "X, y = mce.synt_event(i_sig, n_ftrs,n_inlier=500,n_outlier=50,\n",
    "                      sigma = noise,n1 = scl,n2 = sft,n3 = scl,n4 = sft,\n",
    "                      mu=[0.75,0.76],amp=[0.2,0.3],sig=[0.005,0.01])\n",
    "\n",
    "gs = gridspec.GridSpec(1, 2)\n",
    "plt.figure(figsize=(8,3)) \n",
    "ax1 = plt.subplot(gs[0, 0])\n",
    "ax2 = plt.subplot(gs[0, 1])\n",
    "ax1.set_title('Inliers')\n",
    "ax2.set_title('Outliers')\n",
    "\n",
    "inliers = X[y==0]\n",
    "outliers = X[y==1]\n",
    "for i in range(10):\n",
    "    ax1.plot(inliers[i],'b')\n",
    "    ax2.plot(outliers[i],'r')\n",
    "plt.savefig('Huge_data.jpg')"
   ]
  },
  {
   "cell_type": "markdown",
   "metadata": {},
   "source": [
    "## Outlier detection using auto encoders"
   ]
  },
  {
   "cell_type": "code",
   "execution_count": 6,
   "metadata": {
    "collapsed": false
   },
   "outputs": [
    {
     "name": "stdout",
     "output_type": "stream",
     "text": [
      "---------------  PCA  ----------------\n",
      "cityblock   : real:0.61, latent:0.94\n",
      "L2          : real:0.66, latent:0.94\n",
      "L4          : real:0.67, latent:0.94\n",
      "braycurtis  : real:0.53, latent:0.95\n",
      "canberra    : real:0.31, latent:0.95\n",
      "chebyshev   : real:0.51, latent:0.94\n",
      "correlation : real:0.81, latent:0.59\n",
      "mahalanobis : real:0.57, latent:0.94\n",
      "wL2         : real:0.65, latent:0.94\n",
      "wL4         : real:0.65, latent:0.94\n",
      "---------------  FastICA  ----------------\n",
      "cityblock   : real:0.62, latent:0.95\n",
      "L2          : real:0.65, latent:0.96\n",
      "L4          : real:0.66, latent:0.97\n",
      "braycurtis  : real:0.54, latent:0.96\n",
      "canberra    : real:0.34, latent:0.96\n",
      "chebyshev   : real:0.51, latent:0.97\n",
      "correlation : real:0.79, latent:0.68\n",
      "mahalanobis : real:0.29, latent:0.88\n",
      "wL2         : real:0.64, latent:0.90\n",
      "wL4         : real:0.63, latent:0.89\n"
     ]
    }
   ],
   "source": [
    "z_dim = 2\n",
    "dim_rs ={'AE':'AE','VAE':'VAE','none':'none','PCA':PCA(n_components=z_dim),'NMF':NMF(n_components=2), \n",
    "         'FastICA':FastICA(n_components=2, max_iter=1000)}\n",
    "dim_rs ={'FastICA':FastICA(n_components=2, max_iter=1000),'PCA':PCA(n_components=z_dim)}\n",
    "\n",
    "metrics = ['correlation','mahalanobis','L2']\n",
    "metrics = mce.metrics\n",
    "for dim_r, value in dim_rs.iteritems():\n",
    "    \n",
    "    print '---------------  '+dim_r+'  ----------------'\n",
    "\n",
    "    # Splitter definition\n",
    "    splitter = mce.Splitter(X, reducer = value, \n",
    "                            network_architecture=[[n_ftrs,100,2],[2,100,n_ftrs]], \n",
    "                            clustering = agg.fit_predict, z_dim=z_dim)\n",
    "\n",
    "    # Splitting\n",
    "    splitter.split(1,verbose=0,training_epochs=20)\n",
    "    \n",
    "    # outlier extraction for all of requeste metrics\n",
    "    outliers_r = mce.outliers(X,splitter,mce.metrics)\n",
    "    outliers_l = mce.outliers_latent(splitter,metrics) \n",
    "    \n",
    "    for metr in metrics:\n",
    "        print '{:<12}: real:{:2.2f}, latent:{:2.2f}'.format(metr,roc_auc_score(y==1, outliers_r[metr]),\n",
    "                                              roc_auc_score(y==1, outliers_l[metr]))\n",
    "\n",
    "        \n",
    "    # ensembling\n",
    "#     ems_outliers = mce.norm_ensemble(outliers,0.1)\n",
    "    \n",
    "#     # AUC\n",
    "#     auc = roc_auc_score(y==1, ems_outliers)\n",
    "\n",
    "#     print '{}: AUC={:4.2f}'.format(dim_r,auc)\n",
    "\n",
    "        \n",
    "#     print '*********************************************'"
   ]
  },
  {
   "cell_type": "code",
   "execution_count": null,
   "metadata": {
    "collapsed": true
   },
   "outputs": [],
   "source": [
    "models = {'r':'salam'}\n",
    "\n",
    "for mth in models:\n",
    "    print models[mth]"
   ]
  },
  {
   "cell_type": "code",
   "execution_count": null,
   "metadata": {
    "collapsed": true
   },
   "outputs": [],
   "source": []
  },
  {
   "cell_type": "code",
   "execution_count": 5,
   "metadata": {
    "collapsed": true
   },
   "outputs": [],
   "source": [
    "import numpy as np\n",
    "from sklearn.cluster import AgglomerativeClustering as AggC\n",
    "from memory_profiler import memory_usage\n",
    "from time import time"
   ]
  },
  {
   "cell_type": "code",
   "execution_count": 6,
   "metadata": {
    "collapsed": false
   },
   "outputs": [
    {
     "name": "stdout",
     "output_type": "stream",
     "text": [
      "Maximum memory usage: 270.4453125\n",
      "0.848078012466\n"
     ]
    }
   ],
   "source": [
    "n_f = 200\n",
    "n_d = 1000\n",
    "x = np.concatenate((np.random.normal(0,0.5,(n_d,n_f)),np.random.normal(4,0.5,(n_d,n_f))),axis=0)\n",
    "agg = AggC()\n",
    "\n",
    "t0 = time()\n",
    "mem_usage = memory_usage((agg.fit_predict, (x,)))\n",
    "t1 = time()\n",
    "\n",
    "print('Maximum memory usage: %s' % max(mem_usage))\n",
    "print  t1-t0"
   ]
  },
  {
   "cell_type": "code",
   "execution_count": 10,
   "metadata": {
    "collapsed": false
   },
   "outputs": [
    {
     "name": "stdout",
     "output_type": "stream",
     "text": [
      "(3, 3)\n",
      "(3, 3)\n",
      "(3, 3)\n",
      "(3, 3)\n"
     ]
    }
   ],
   "source": [
    "for i in splitter.z_mu:\n",
    "    print mce.Cov_mat(i).shape"
   ]
  },
  {
   "cell_type": "code",
   "execution_count": 36,
   "metadata": {
    "collapsed": false
   },
   "outputs": [],
   "source": [
    "import pickle\n",
    "\n",
    "def pklread(name):\n",
    "    with open(name,'r') as f:\n",
    "        data = pickle.load(f)\n",
    "    return data\n",
    "\n",
    "typ = 'event'\n",
    "for i in range(1,11):\n",
    "    d = pklread('../../code/corr_res/'+typ+'_cor'+str(i))\n",
    "    cor1 = d[0]\n",
    "    cor2 = d[1]\n",
    "    names = d[2]\n",
    "\n",
    "    fig = plt.figure(figsize=(18, 9))\n",
    "    gs = gridspec.GridSpec(1,2)\n",
    "    ax = fig.add_subplot(gs[0,0])\n",
    "    ax.imshow(cor1,interpolation='none')\n",
    "    ax.set_xticks(np.arange(50));\n",
    "    ax.set_xticklabels(names, rotation='vertical');\n",
    "    ax.set_yticks(np.arange(50));\n",
    "    ax.set_yticklabels(names);\n",
    "    ax.set_title('Correlation');\n",
    "\n",
    "    ax = fig.add_subplot(gs[0,1])\n",
    "    ax.imshow(cor2,interpolation='none')\n",
    "    ax.set_xticks(np.arange(50));\n",
    "    ax.set_xticklabels(names, rotation='vertical');\n",
    "    ax.set_yticks(np.arange(50));\n",
    "    ax.set_yticklabels(names);\n",
    "    ax.set_title('Cohen-Kappa');\n",
    "\n",
    "    ax.set_yticks(np.arange(50));\n",
    "    ax.set_yticklabels(names);\n",
    "    plt.subplots_adjust(wspace=0.23,bottom=0.17, top=0.97, left=0.09, right=0.99)\n",
    "    plt.savefig('cm_'+typ+str(i)+'.jpg',dpi=200)\n",
    "    plt.close()"
   ]
  },
  {
   "cell_type": "code",
   "execution_count": 9,
   "metadata": {
    "collapsed": true
   },
   "outputs": [],
   "source": [
    "ss = np.arange(4)"
   ]
  },
  {
   "cell_type": "code",
   "execution_count": null,
   "metadata": {
    "collapsed": false
   },
   "outputs": [],
   "source": []
  },
  {
   "cell_type": "code",
   "execution_count": 4,
   "metadata": {
    "collapsed": false
   },
   "outputs": [],
   "source": [
    "import pandas as pd\n",
    "from sklearn import neighbors \n",
    "from sklearn.ensemble import IsolationForest\n",
    "def sk_check(X_train,X_test,y_test,o_list):\n",
    "    f_f = [neighbors.LocalOutlierFactor(n_neighbors=5),\\\n",
    "    neighbors.LocalOutlierFactor(n_neighbors=10),\\\n",
    "    neighbors.LocalOutlierFactor(n_neighbors=35),\\\n",
    "    IsolationForest(max_samples='auto')]\n",
    "    f_name = ['LOF5','LOF10','LOF35','i-forest']\n",
    "\n",
    "    columns = ['method']+['AUC','MCC','BRU']\n",
    "    n_row = 2\n",
    "    index = np.arange(n_row) # array of numbers for the number of samples\n",
    "    df = pd.DataFrame(columns=columns, index = index)\n",
    "\n",
    "    exec 'T_o ='+(' | '.join(['(y_test=='+str(i)+')' for i in o_list]))\n",
    "\n",
    "    auc_max = -1\n",
    "    for i in range(3):\n",
    "        lof = f_f[i]\n",
    "        lof.fit(X_test)\n",
    "        outliers = -lof.negative_outlier_factor_\n",
    "\n",
    "        auc_test = roc_auc_score(T_o, outliers)\n",
    "        if auc_test>auc_max:\n",
    "            auc_max = auc_test\n",
    "            df['method'][0] = f_name[i]\n",
    "            df['MCC'][0] = mce.MCC(T_o, outliers)\n",
    "            df['AUC'][0] = auc_max\n",
    "            df['BRU'][0] = mce.bru_score(T_o, outliers)\n",
    "\n",
    "    df['method'][1] = f_name[3]\n",
    "    isof = f_f[3]\n",
    "    isof.fit(X_train)\n",
    "    scores_pred = isof.decision_function(X_test)\n",
    "    outliers = scores_pred.max()-scores_pred\n",
    "    df['MCC'][1] = mce.MCC(T_o, outliers)\n",
    "    df['AUC'][1] = roc_auc_score(T_o, outliers)\n",
    "    df['BRU'][1] = mce.bru_score(T_o, outliers)\n",
    "\n",
    "    return df"
   ]
  },
  {
   "cell_type": "code",
   "execution_count": 5,
   "metadata": {
    "collapsed": false
   },
   "outputs": [
    {
     "data": {
      "text/html": [
       "<div>\n",
       "<style>\n",
       "    .dataframe thead tr:only-child th {\n",
       "        text-align: right;\n",
       "    }\n",
       "\n",
       "    .dataframe thead th {\n",
       "        text-align: left;\n",
       "    }\n",
       "\n",
       "    .dataframe tbody tr th {\n",
       "        vertical-align: top;\n",
       "    }\n",
       "</style>\n",
       "<table border=\"1\" class=\"dataframe\">\n",
       "  <thead>\n",
       "    <tr style=\"text-align: right;\">\n",
       "      <th></th>\n",
       "      <th>method</th>\n",
       "      <th>AUC</th>\n",
       "      <th>MCC</th>\n",
       "      <th>BRU</th>\n",
       "    </tr>\n",
       "  </thead>\n",
       "  <tbody>\n",
       "    <tr>\n",
       "      <th>0</th>\n",
       "      <td>LOF35</td>\n",
       "      <td>0.659</td>\n",
       "      <td>0.098</td>\n",
       "      <td>0.170196</td>\n",
       "    </tr>\n",
       "    <tr>\n",
       "      <th>1</th>\n",
       "      <td>i-forest</td>\n",
       "      <td>0.5974</td>\n",
       "      <td>0.098</td>\n",
       "      <td>0.0823529</td>\n",
       "    </tr>\n",
       "  </tbody>\n",
       "</table>\n",
       "</div>"
      ],
      "text/plain": [
       "     method     AUC    MCC        BRU\n",
       "0     LOF35   0.659  0.098   0.170196\n",
       "1  i-forest  0.5974  0.098  0.0823529"
      ]
     },
     "execution_count": 5,
     "metadata": {},
     "output_type": "execute_result"
    }
   ],
   "source": [
    "sk_check(X,X,y,[1])"
   ]
  },
  {
   "cell_type": "code",
   "execution_count": null,
   "metadata": {
    "collapsed": true
   },
   "outputs": [],
   "source": []
  }
 ],
 "metadata": {
  "anaconda-cloud": {},
  "kernelspec": {
   "display_name": "Python [default]",
   "language": "python",
   "name": "python2"
  },
  "language_info": {
   "codemirror_mode": {
    "name": "ipython",
    "version": 2
   },
   "file_extension": ".py",
   "mimetype": "text/x-python",
   "name": "python",
   "nbconvert_exporter": "python",
   "pygments_lexer": "ipython2",
   "version": "2.7.12"
  }
 },
 "nbformat": 4,
 "nbformat_minor": 1
}
