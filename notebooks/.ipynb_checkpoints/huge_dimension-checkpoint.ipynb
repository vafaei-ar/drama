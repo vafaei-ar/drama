{
 "cells": [
  {
   "cell_type": "markdown",
   "metadata": {},
   "source": [
    "# Unsupervised outliers detection (event detection)"
   ]
  },
  {
   "cell_type": "code",
   "execution_count": 2,
   "metadata": {
    "collapsed": false
   },
   "outputs": [],
   "source": [
    "import sys \n",
    "sys.path.insert(0,'../')\n",
    "import pymce2 as mce\n",
    "\n",
    "import numpy as np\n",
    "\n",
    "from sklearn.cluster import AgglomerativeClustering\n",
    "from sklearn.decomposition import PCA,TruncatedSVD,NMF,FastICA\n",
    "from sklearn.metrics import roc_auc_score\n",
    "\n",
    "import matplotlib.pylab as plt\n",
    "from matplotlib import gridspec\n",
    "%matplotlib inline"
   ]
  },
  {
   "cell_type": "markdown",
   "metadata": {},
   "source": [
    "## Defining clustering algorithm as clustering fucntion"
   ]
  },
  {
   "cell_type": "code",
   "execution_count": 3,
   "metadata": {
    "collapsed": true
   },
   "outputs": [],
   "source": [
    "agg = AgglomerativeClustering()"
   ]
  },
  {
   "cell_type": "markdown",
   "metadata": {},
   "source": [
    "## Signal synthesis"
   ]
  },
  {
   "cell_type": "code",
   "execution_count": 4,
   "metadata": {
    "collapsed": false
   },
   "outputs": [
    {
     "data": {
      "image/png": "[encoded data removed]",
      "text/plain": [
       "<matplotlib.figure.Figure at 0x7f279f09dc10>"
      ]
     },
     "metadata": {},
     "output_type": "display_data"
    }
   ],
   "source": [
    "i_sig = 1\n",
    "n_ftrs = 1000\n",
    "noise = 0.01\n",
    "scl = 0.0\n",
    "sft = 0.0\n",
    "\n",
    "X, y = mce.synt_event(i_sig,n_ftrs,\n",
    "                      sigma = noise,n1 = scl,n2 = sft,n3 = scl,n4 = sft,\n",
    "                      mu=[0.75,0.76],amp=[0.3,0.4],sig=[0.08,0.1])\n",
    "\n",
    "gs = gridspec.GridSpec(1, 2)\n",
    "plt.figure(figsize=(8,3)) \n",
    "ax1 = plt.subplot(gs[0, 0])\n",
    "ax2 = plt.subplot(gs[0, 1])\n",
    "ax1.set_title('Inliers')\n",
    "ax2.set_title('Outliers')\n",
    "\n",
    "inliers = X[y==0]\n",
    "outliers = X[y==1]\n",
    "for i in range(10):\n",
    "    ax1.plot(inliers[i],'b')\n",
    "    ax2.plot(outliers[i],'r')"
   ]
  },
  {
   "cell_type": "markdown",
   "metadata": {},
   "source": [
    "## Outlier detection using auto encoders"
   ]
  },
  {
   "cell_type": "code",
   "execution_count": 4,
   "metadata": {
    "collapsed": false
   },
   "outputs": [
    {
     "name": "stdout",
     "output_type": "stream",
     "text": [
      "---------------  none  ----------------\n",
      "correlation : real:0.62, latent:0.62\n",
      "mahalanobis : real:0.43, latent:0.43\n",
      "L2          : real:0.92, latent:0.92\n",
      "---------------  AE  ----------------\n",
      "correlation : real:0.56, latent:0.50\n",
      "mahalanobis : real:0.61, latent:0.50\n",
      "L2          : real:0.98, latent:0.50\n",
      "---------------  VAE  ----------------\n",
      "correlation : real:0.63, latent:0.52\n",
      "mahalanobis : real:0.91, latent:0.65\n",
      "L2          : real:0.98, latent:0.65\n",
      "---------------  NMF  ----------------\n",
      "correlation : real:0.62, latent:0.48\n",
      "mahalanobis : real:0.90, latent:0.96\n",
      "L2          : real:0.96, latent:0.93\n",
      "---------------  FastICA  ----------------\n",
      "correlation : real:0.62, latent:0.62\n",
      "mahalanobis : real:0.89, latent:0.95\n",
      "L2          : real:0.96, latent:0.97\n",
      "---------------  PCA  ----------------\n",
      "correlation : real:0.63, latent:0.49\n",
      "mahalanobis : real:0.89, latent:0.93\n",
      "L2          : real:0.95, latent:0.93\n"
     ]
    }
   ],
   "source": [
    "z_dim = 2\n",
    "dim_rs ={'AE':'AE','VAE':'VAE','none':'none','PCA':PCA(n_components=z_dim),'NMF':NMF(n_components=2), \n",
    "         'FastICA':FastICA(n_components=2, max_iter=1000)}\n",
    "# dim_rs ={'PCA':PCA(n_components=z_dim)}\n",
    "\n",
    "metrics = ['correlation','mahalanobis','L2']\n",
    "for dim_r, value in dim_rs.iteritems():\n",
    "    \n",
    "    print '---------------  '+dim_r+'  ----------------'\n",
    "\n",
    "    # Splitter definition\n",
    "    splitter = mce.Splitter(X, reducer = value, clustering = agg.fit_predict, z_dim=z_dim)\n",
    "\n",
    "    # Splitting\n",
    "    splitter.split(1,verbose=0,training_epochs=20)\n",
    "    \n",
    "    # outlier extraction for all of requeste metrics\n",
    "    outliers_r = mce.outliers(X,splitter,mce.metrics)\n",
    "    outliers_l = mce.outliers_latent(splitter,metrics) \n",
    "    \n",
    "    for metr in metrics:\n",
    "        print '{:<12}: real:{:2.2f}, latent:{:2.2f}'.format(metr,roc_auc_score(y==1, outliers_r[metr]),\n",
    "                                              roc_auc_score(y==1, outliers_l[metr]))\n",
    "\n",
    "        \n",
    "    # ensembling\n",
    "#     ems_outliers = mce.norm_ensemble(outliers,0.1)\n",
    "    \n",
    "#     # AUC\n",
    "#     auc = roc_auc_score(y==1, ems_outliers)\n",
    "\n",
    "#     print '{}: AUC={:4.2f}'.format(dim_r,auc)\n",
    "\n",
    "        \n",
    "#     print '*********************************************'"
   ]
  },
  {
   "cell_type": "code",
   "execution_count": null,
   "metadata": {
    "collapsed": true
   },
   "outputs": [],
   "source": [
    "---------------  none  ----------------\n",
    "correlation : real:0.94, latent:0.94\n",
    "mahalanobis : real:0.99, latent:0.41\n",
    "L2          : real:0.87, latent:1.00\n",
    "---------------  AE  ----------------\n",
    "correlation : real:0.63, latent:0.50\n",
    "mahalanobis : real:0.83, latent:0.50\n",
    "L2          : real:0.99, latent:0.50\n",
    "---------------  VAE  ----------------\n",
    "correlation : real:0.96, latent:0.48\n",
    "mahalanobis : real:0.88, latent:0.60\n",
    "L2          : real:0.95, latent:0.60\n",
    "---------------  NMF  ----------------\n",
    "correlation : real:0.94, latent:0.51\n",
    "mahalanobis : real:0.79, latent:0.96\n",
    "L2          : real:0.88, latent:0.91\n",
    "---------------  FastICA  ----------------\n",
    "correlation : real:0.93, latent:0.51\n",
    "mahalanobis : real:0.88, latent:0.93\n",
    "L2          : real:0.88, latent:0.96\n",
    "---------------  PCA  ----------------\n",
    "correlation : real:0.94, latent:0.55\n",
    "mahalanobis : real:0.97, latent:0.62\n",
    "L2          : real:0.92, latent:1.00"
   ]
  },
  {
   "cell_type": "markdown",
   "metadata": {
    "collapsed": false
   },
   "source": [
    "## Outlier detection using Scikit-learn dimensionality reduction classes"
   ]
  },
  {
   "cell_type": "code",
   "execution_count": 5,
   "metadata": {
    "collapsed": false
   },
   "outputs": [
    {
     "name": "stdout",
     "output_type": "stream",
     "text": [
      "---------------  NMF  ----------------\n",
      "NMF: AUC=0.87\n",
      "...........     metric report     ...........\n",
      "\n",
      "cityblock 0.895875\n",
      "L2 0.9086\n",
      "L4 0.89629\n",
      "braycurtis 0.750955\n",
      "canberra 0.54297\n",
      "chebyshev 0.7888\n",
      "correlation 0.921615\n",
      "mahalanobis 0.84203\n",
      "wL2 0.923945\n",
      "wL4 0.91154\n",
      "*********************************************\n",
      "---------------  PCA  ----------------\n",
      "PCA: AUC=0.97\n",
      "...........     metric report     ...........\n",
      "\n",
      "cityblock 0.98699\n",
      "L2 0.972135\n",
      "L4 0.945225\n",
      "braycurtis 0.95363\n",
      "canberra 0.60455\n",
      "chebyshev 0.83529\n",
      "correlation 0.91502\n",
      "mahalanobis 0.95359\n",
      "wL2 0.945895\n",
      "wL4 0.86235\n",
      "*********************************************\n",
      "---------------  FastICA  ----------------\n",
      "FastICA: AUC=0.85\n",
      "...........     metric report     ...........\n",
      "\n",
      "cityblock 0.897925\n",
      "L2 0.908235\n",
      "L4 0.894785\n",
      "braycurtis 0.757515\n",
      "canberra 0.541015\n",
      "chebyshev 0.793305\n",
      "correlation 0.927155\n",
      "mahalanobis 0.95359\n",
      "wL2 0.752055\n",
      "wL4 0.75392\n",
      "*********************************************\n"
     ]
    }
   ],
   "source": [
    "dim_rs ={'PCA':PCA(n_components=2),\n",
    "         'NMF':NMF(n_components=2), \n",
    "         'FastICA':FastICA(n_components=2, max_iter=1000)}\n",
    "\n",
    "for dim_r, value in dim_rs.iteritems():\n",
    "    \n",
    "    print '---------------  '+dim_r+'  ----------------'\n",
    "\n",
    "    # Splitter definition using Scikit-learn dimensionality reduction classes\n",
    "    splitter = mce.Custom_Splitter(X, mce.sk_convert(value), clustering)\n",
    "\n",
    "    # Splitting\n",
    "    splitter.split(1,verbose=0)\n",
    "    \n",
    "    # outlier extraction for all of requeste metrics\n",
    "    outliers = mce.outliers(X,splitter,metrics)\n",
    "        \n",
    "    # ensembling\n",
    "    ems_outliers = mce.norm_ensemble(outliers,0.1)\n",
    "    \n",
    "    # AUC\n",
    "    auc = roc_auc_score(y==1, ems_outliers)\n",
    "\n",
    "    print '{}: AUC={:4.2f}'.format(dim_r,auc)\n",
    "\n",
    "    print '...........     metric report     ...........'\n",
    "    print \n",
    "    for metr in metrics:\n",
    "        print metr,roc_auc_score(y==1, outliers[metr])\n",
    "        \n",
    "    print '*********************************************'"
   ]
  },
  {
   "cell_type": "code",
   "execution_count": null,
   "metadata": {
    "collapsed": true
   },
   "outputs": [],
   "source": []
  },
  {
   "cell_type": "code",
   "execution_count": 6,
   "metadata": {
    "collapsed": false
   },
   "outputs": [],
   "source": [
    "class foo(object):\n",
    "    def __init__(self):\n",
    "        self.i = 0\n",
    "    def bar(self):\n",
    "        self.i += 1\n",
    "        print self.i\n",
    "        \n",
    "    def __enter__(self):\n",
    "#         self.__init__()\n",
    "        return self\n",
    "    def __exit__(self, type, value, traceback):\n",
    "        del self.i"
   ]
  },
  {
   "cell_type": "code",
   "execution_count": 60,
   "metadata": {
    "collapsed": true
   },
   "outputs": [],
   "source": [
    "ins = foo()"
   ]
  },
  {
   "cell_type": "code",
   "execution_count": 8,
   "metadata": {
    "collapsed": false
   },
   "outputs": [
    {
     "name": "stdout",
     "output_type": "stream",
     "text": [
      "1\n"
     ]
    }
   ],
   "source": [
    "with foo() as ss:\n",
    "    ss.bar()"
   ]
  },
  {
   "cell_type": "code",
   "execution_count": 5,
   "metadata": {
    "collapsed": true
   },
   "outputs": [],
   "source": [
    "import numpy as np\n",
    "from sklearn.cluster import AgglomerativeClustering as AggC\n",
    "from memory_profiler import memory_usage\n",
    "from time import time"
   ]
  },
  {
   "cell_type": "code",
   "execution_count": 6,
   "metadata": {
    "collapsed": false
   },
   "outputs": [
    {
     "name": "stdout",
     "output_type": "stream",
     "text": [
      "Maximum memory usage: 270.4453125\n",
      "0.848078012466\n"
     ]
    }
   ],
   "source": [
    "n_f = 200\n",
    "n_d = 1000\n",
    "x = np.concatenate((np.random.normal(0,0.5,(n_d,n_f)),np.random.normal(4,0.5,(n_d,n_f))),axis=0)\n",
    "agg = AggC()\n",
    "\n",
    "t0 = time()\n",
    "mem_usage = memory_usage((agg.fit_predict, (x,)))\n",
    "t1 = time()\n",
    "\n",
    "print('Maximum memory usage: %s' % max(mem_usage))\n",
    "print  t1-t0"
   ]
  },
  {
   "cell_type": "code",
   "execution_count": 10,
   "metadata": {
    "collapsed": false
   },
   "outputs": [
    {
     "name": "stdout",
     "output_type": "stream",
     "text": [
      "(3, 3)\n",
      "(3, 3)\n",
      "(3, 3)\n",
      "(3, 3)\n"
     ]
    }
   ],
   "source": [
    "for i in splitter.z_mu:\n",
    "    print mce.Cov_mat(i).shape"
   ]
  },
  {
   "cell_type": "code",
   "execution_count": 36,
   "metadata": {
    "collapsed": false
   },
   "outputs": [],
   "source": [
    "import pickle\n",
    "\n",
    "def pklread(name):\n",
    "    with open(name,'r') as f:\n",
    "        data = pickle.load(f)\n",
    "    return data\n",
    "\n",
    "typ = 'event'\n",
    "for i in range(1,11):\n",
    "    d = pklread('../../code/corr_res/'+typ+'_cor'+str(i))\n",
    "    cor1 = d[0]\n",
    "    cor2 = d[1]\n",
    "    names = d[2]\n",
    "\n",
    "    fig = plt.figure(figsize=(18, 9))\n",
    "    gs = gridspec.GridSpec(1,2)\n",
    "    ax = fig.add_subplot(gs[0,0])\n",
    "    ax.imshow(cor1,interpolation='none')\n",
    "    ax.set_xticks(np.arange(50));\n",
    "    ax.set_xticklabels(names, rotation='vertical');\n",
    "    ax.set_yticks(np.arange(50));\n",
    "    ax.set_yticklabels(names);\n",
    "    ax.set_title('Correlation');\n",
    "\n",
    "    ax = fig.add_subplot(gs[0,1])\n",
    "    ax.imshow(cor2,interpolation='none')\n",
    "    ax.set_xticks(np.arange(50));\n",
    "    ax.set_xticklabels(names, rotation='vertical');\n",
    "    ax.set_yticks(np.arange(50));\n",
    "    ax.set_yticklabels(names);\n",
    "    ax.set_title('Cohen-Kappa');\n",
    "\n",
    "    ax.set_yticks(np.arange(50));\n",
    "    ax.set_yticklabels(names);\n",
    "    plt.subplots_adjust(wspace=0.23,bottom=0.17, top=0.97, left=0.09, right=0.99)\n",
    "    plt.savefig('cm_'+typ+str(i)+'.jpg',dpi=200)\n",
    "    plt.close()"
   ]
  },
  {
   "cell_type": "code",
   "execution_count": 9,
   "metadata": {
    "collapsed": true
   },
   "outputs": [],
   "source": [
    "ss = np.arange(4)"
   ]
  },
  {
   "cell_type": "code",
   "execution_count": null,
   "metadata": {
    "collapsed": false
   },
   "outputs": [],
   "source": []
  },
  {
   "cell_type": "code",
   "execution_count": null,
   "metadata": {
    "collapsed": false
   },
   "outputs": [],
   "source": []
  },
  {
   "cell_type": "code",
   "execution_count": null,
   "metadata": {
    "collapsed": true
   },
   "outputs": [],
   "source": []
  }
 ],
 "metadata": {
  "anaconda-cloud": {},
  "kernelspec": {
   "display_name": "Python [default]",
   "language": "python",
   "name": "python2"
  }
 },
 "nbformat": 4,
 "nbformat_minor": 1
}
