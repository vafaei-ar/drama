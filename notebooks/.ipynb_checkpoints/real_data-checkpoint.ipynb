{
 "cells": [
  {
   "cell_type": "code",
   "execution_count": 1,
   "metadata": {
    "collapsed": true
   },
   "outputs": [],
   "source": [
    "import sys\n",
    "sys.path.insert(0,'../')\n",
    "import pymce as mce\n",
    "\n",
    "import time\n",
    "import numpy as np\n",
    "import glob\n",
    "import h5py\n",
    "import scipy.io as sio\n",
    "\n",
    "from sklearn import neighbors \n",
    "from sklearn.ensemble import IsolationForest\n",
    "from sklearn.cluster import AgglomerativeClustering\n",
    "from sklearn.decomposition import PCA,TruncatedSVD,NMF,FastICA,KernelPCA,IncrementalPCA\n",
    "from sklearn.metrics import roc_auc_score\n",
    "\n",
    "import matplotlib.pylab as plt\n",
    "from matplotlib import gridspec\n",
    "%matplotlib inline"
   ]
  },
  {
   "cell_type": "code",
   "execution_count": 5,
   "metadata": {
    "collapsed": false
   },
   "outputs": [],
   "source": [
    "agg = AgglomerativeClustering(n_clusters=2,\n",
    "            affinity='euclidean', connectivity=None,\n",
    "            compute_full_tree='auto', linkage='ward')\n",
    "\n",
    "def clustering(z_mu):\n",
    "    num = z_mu.shape[0]\n",
    "    n_divide = int(num/4999)+1\n",
    "    y = np.zeros(num)\n",
    "    for inds in np.array_split(np.arange(num), n_divide):\n",
    "        y[inds] = agg.fit_predict(z_mu[inds,:])\n",
    "    return y\n",
    "\n",
    "metrics = mce.metrics"
   ]
  },
  {
   "cell_type": "code",
   "execution_count": null,
   "metadata": {
    "collapsed": false
   },
   "outputs": [
    {
     "name": "stdout",
     "output_type": "stream",
     "text": [
      "name: lympho, LOF: 0.98, 1: 0.52, 2: 0.52, 3: 0.60, 4: 0.58\n",
      "name: breastw, LOF: 0.41, 1: 1.00, 2: 1.00, 3: 1.00, 4: 1.00\n",
      "name: wine, LOF: 0.94, 1: 0.99, 2: 0.99, 3: 0.99, 4: 0.92\n",
      "name: vertebral, LOF: 0.49, 1: 0.39, 2: 0.41, 3: 0.44, 4: 0.43\n",
      "name: glass, LOF: 0.78, 1: 0.92, 2: 0.92, 3: 0.58, 4: 0.45\n"
     ]
    }
   ],
   "source": [
    "import os\n",
    "fils = sorted(glob.glob('../../data/real/*.mat'), key=os.path.getsize)\n",
    "fils = fils[:10]\n",
    "# fils= ['../../data/real/glass.mat']\n",
    "# fils = ['../../data/real/arrhythmia.mat']\n",
    "\n",
    "n_try = 3\n",
    "# i=0\n",
    "for i in range(len(fils)):\n",
    "# for i in range(1):\n",
    "    name = fils[i].split('/')[-1]\n",
    "    name = name[:-4]\n",
    "    try:\n",
    "        data = sio.loadmat(fils[i])\n",
    "        X = data['X'].astype(float)\n",
    "        y = data['y']\n",
    "    except:\n",
    "        data = h5py.File(fils[i])\n",
    "        X = np.array(data['X']).T\n",
    "        y = np.array(data['y']).T\n",
    "    \n",
    "    n_ftrs = X.shape[1]\n",
    "\n",
    "    nn_en = [n_ftrs, n_ftrs//2, 2]\n",
    "    nn_de = [2, n_ftrs//2, n_ftrs]\n",
    "    network_architecture = [nn_en,nn_de]\n",
    "\n",
    "    splitter = mce.Splitter(X, 'VAE', network_architecture, clustering)\n",
    "\n",
    "    splitter.split(1,verbose=0,training_epochs=20)\n",
    "    outliers = mce.outliers(X,splitter,metrics)\n",
    "    \n",
    "    ens_outliers = mce.ensemble_outliers(outliers)\n",
    "    ens_outliers2 = ensemble_outliers(outliers)\n",
    "    s2 = roc_auc_score(y==1, ens_outliers)\n",
    "    s3 = roc_auc_score(y==1, ens_outliers2)    \n",
    "    \n",
    "    outliers = corrector(outliers)\n",
    "    ens_outliers = mce.ensemble_outliers(outliers)\n",
    "    ens_outliers2 = ensemble_outliers(outliers)\n",
    "    s4 = roc_auc_score(y==1, ens_outliers)\n",
    "    s5 = roc_auc_score(y==1, ens_outliers2)\n",
    "    \n",
    "    lof = neighbors.LocalOutlierFactor(n_neighbors=10)\n",
    "    lof.fit(X)    \n",
    "    s1 = roc_auc_score(y==1, -lof.negative_outlier_factor_)\n",
    "\n",
    "    \n",
    "    print 'name: {}, LOF: {:4.2f}, 1: {:4.2f}, 2: {:4.2f}, 3: {:4.2f}, 4: {:4.2f}'.format(name,s1,s2,s3,s4,s5)"
   ]
  },
  {
   "cell_type": "code",
   "execution_count": null,
   "metadata": {
    "collapsed": false
   },
   "outputs": [],
   "source": []
  },
  {
   "cell_type": "code",
   "execution_count": 232,
   "metadata": {
    "collapsed": false
   },
   "outputs": [
    {
     "name": "stdout",
     "output_type": "stream",
     "text": [
      "cityblock 0.95479950563\n",
      "L2 0.957281653392\n",
      "L4 0.952258994782\n",
      "braycurtis 0.445859653941\n",
      "canberra 0.313708459215\n",
      "chebyshev 0.93598770942\n",
      "correlation 0.410028151607\n",
      "mahalanobis 0.663475006866\n",
      "wL2 0.955070722329\n",
      "wL4 0.946951386982\n"
     ]
    }
   ],
   "source": [
    "for metr in metrics:\n",
    "    print metr,roc_auc_score(y==1, outliers[metr])"
   ]
  },
  {
   "cell_type": "code",
   "execution_count": 34,
   "metadata": {
    "collapsed": false
   },
   "outputs": [
    {
     "name": "stdout",
     "output_type": "stream",
     "text": [
      "0.430158730159\n",
      "0.438571428571\n"
     ]
    }
   ],
   "source": [
    "ens_outliers = mce.ensemble_outliers(outliers)\n",
    "print roc_auc_score(y==1, ens_outliers)\n",
    "\n",
    "ens_outliers = ensemble_outliers(outliers)\n",
    "print roc_auc_score(y==1, ens_outliers)"
   ]
  },
  {
   "cell_type": "code",
   "execution_count": 7,
   "metadata": {
    "collapsed": false
   },
   "outputs": [
    {
     "name": "stdout",
     "output_type": "stream",
     "text": [
      "0.731865284974\n"
     ]
    }
   ],
   "source": [
    "from sklearn import neighbors \n",
    "lof = neighbors.LocalOutlierFactor(n_neighbors=10)\n",
    "lof.fit(X)\n",
    "print roc_auc_score(y==1, -lof.negative_outlier_factor_)"
   ]
  },
  {
   "cell_type": "code",
   "execution_count": null,
   "metadata": {
    "collapsed": true
   },
   "outputs": [],
   "source": [
    "# for i,metr in enumerate(metrics):\n",
    "for i,metr in enumerate(['canberra']):\n",
    "    nn = outliers[metr].shape[0]\n",
    "    plt.scatter(np.arange(nn),outliers[metr],c=mce.COLORS[i],edgecolors='none',label=metr)\n",
    "plt.legend(bbox_to_anchor=(1.5, 1.05))"
   ]
  },
  {
   "cell_type": "code",
   "execution_count": 110,
   "metadata": {
    "collapsed": false
   },
   "outputs": [],
   "source": [
    "def corrector(outliers):\n",
    "\n",
    "    assert isinstance(outliers, dict),'Input should be a dictionary contains outliers using a several metrics.'\t\n",
    "    n = 0\n",
    "    sigma = 0\n",
    "    for metr,dist in outliers.iteritems():\n",
    "        nd = dist.shape[0]\n",
    "        dist -= dist.min()\n",
    "        dist /= dist.max()\n",
    "        if (dist<0.5).sum()<nd/2:\n",
    "            outliers[metr] = 1-dist\n",
    "    return outliers\n",
    "        "
   ]
  },
  {
   "cell_type": "code",
   "execution_count": 237,
   "metadata": {
    "collapsed": true
   },
   "outputs": [],
   "source": [
    "from scipy.spatial.distance import braycurtis,canberra,chebyshev,cityblock,correlation,minkowski,wminkowski\n",
    "\n",
    "def ensemble_outliers(outliers):\n",
    "\n",
    "    assert isinstance(outliers, dict),'Input should be a dictionary contains outliers using a several metrics.'\t\n",
    "    \n",
    "#     n = 0\n",
    "#     sigma = 0\n",
    "#     for key in outliers.keys():\n",
    "#         n += 1\n",
    "#         distance = outliers[key]\n",
    "#         distance -= distance.min()\n",
    "#         distance /= distance.max()\n",
    "#         std = (1.1)**(scipy.stats.skew(distance))\n",
    "#         sigma = sigma+std\n",
    "#         if n==1:\n",
    "#                 ens_outliers = np.zeros(distance.shape)\n",
    "#         ens_outliers += distance/std\n",
    "    x = dic2array(outliers)\n",
    "    x = x.view((float, len(x.dtype.names)))\n",
    "    return np.sum(np.power(x,0.25),axis=1)\n"
   ]
  },
  {
   "cell_type": "code",
   "execution_count": 67,
   "metadata": {
    "collapsed": false
   },
   "outputs": [
    {
     "name": "stdout",
     "output_type": "stream",
     "text": [
      "0.921329991761\n"
     ]
    }
   ],
   "source": [
    "ens_outliers2 = ensemble_outliers(outliers)\n",
    "print roc_auc_score(y==1, ens_outliers2)"
   ]
  },
  {
   "cell_type": "code",
   "execution_count": null,
   "metadata": {
    "collapsed": false
   },
   "outputs": [],
   "source": []
  },
  {
   "cell_type": "code",
   "execution_count": 213,
   "metadata": {
    "collapsed": false
   },
   "outputs": [
    {
     "data": {
      "text/plain": [
       "(214,)"
      ]
     },
     "execution_count": 213,
     "metadata": {},
     "output_type": "execute_result"
    }
   ],
   "source": [
    "outliers['L2'].shape"
   ]
  },
  {
   "cell_type": "code",
   "execution_count": 217,
   "metadata": {
    "collapsed": false
   },
   "outputs": [],
   "source": [
    "def dic2array(x):\n",
    "    vals = []\n",
    "    flds = []\n",
    "    for k,v in x.iteritems():\n",
    "        vals.append(v)\n",
    "        flds.append((k,float))\n",
    "    vals = np.array(vals).T\n",
    "    vals = [tuple(i) for i in vals]\n",
    "    return np.array(vals,dtype=flds)"
   ]
  },
  {
   "cell_type": "code",
   "execution_count": 181,
   "metadata": {
    "collapsed": false
   },
   "outputs": [
    {
     "data": {
      "text/plain": [
       "(10, 214)"
      ]
     },
     "execution_count": 181,
     "metadata": {},
     "output_type": "execute_result"
    }
   ],
   "source": [
    "x = outliers\n",
    "np.array(x.values(),dtype=[(i,float) for i in x.keys()])['L2'].shape"
   ]
  },
  {
   "cell_type": "code",
   "execution_count": 158,
   "metadata": {
    "collapsed": false
   },
   "outputs": [
    {
     "data": {
      "text/plain": [
       "[('chebyshev', float),\n",
       " ('canberra', float),\n",
       " ('wL4', float),\n",
       " ('wL2', float),\n",
       " ('mahalanobis', float),\n",
       " ('braycurtis', float),\n",
       " ('L4', float),\n",
       " ('L2', float),\n",
       " ('correlation', float),\n",
       " ('cityblock', float)]"
      ]
     },
     "execution_count": 158,
     "metadata": {},
     "output_type": "execute_result"
    }
   ],
   "source": [
    "[(i,float) for i in x.keys()]"
   ]
  },
  {
   "cell_type": "code",
   "execution_count": null,
   "metadata": {
    "collapsed": false
   },
   "outputs": [],
   "source": []
  },
  {
   "cell_type": "code",
   "execution_count": 179,
   "metadata": {
    "collapsed": false
   },
   "outputs": [
    {
     "data": {
      "text/plain": [
       "array([1, 3], dtype=int32)"
      ]
     },
     "execution_count": 179,
     "metadata": {},
     "output_type": "execute_result"
    }
   ],
   "source": [
    "x = np.array([(1,2),(3,4)],dtype=[('a','<i4'),('b','<i4')])\n",
    "x['a']"
   ]
  },
  {
   "cell_type": "code",
   "execution_count": null,
   "metadata": {
    "collapsed": true
   },
   "outputs": [],
   "source": []
  }
 ],
 "metadata": {
  "anaconda-cloud": {},
  "kernelspec": {
   "display_name": "Python [default]",
   "language": "python",
   "name": "python2"
  },
  "language_info": {
   "codemirror_mode": {
    "name": "ipython",
    "version": 2
   },
   "file_extension": ".py",
   "mimetype": "text/x-python",
   "name": "python",
   "nbconvert_exporter": "python",
   "pygments_lexer": "ipython2",
   "version": "2.7.12"
  }
 },
 "nbformat": 4,
 "nbformat_minor": 1
}
