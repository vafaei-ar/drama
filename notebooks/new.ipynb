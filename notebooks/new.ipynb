{
 "cells": [
  {
   "cell_type": "markdown",
   "metadata": {},
   "source": [
    "# Unsupervised outliers detection (mixture of data)"
   ]
  },
  {
   "cell_type": "code",
   "execution_count": 1,
   "metadata": {},
   "outputs": [],
   "source": [
    "# import drama as drm\n",
    "# import numpy as np\n",
    "# import matplotlib.pylab as plt\n",
    "# from matplotlib import gridspec\n",
    "\n",
    "# %matplotlib inline\n",
    "\n",
    "# ## Signal synthesis\n",
    "\n",
    "# i_sig = 2\n",
    "# n_ftrs = 100\n",
    "# noise = 0.3\n",
    "# scl = 0.0\n",
    "# sft = 0.0\n",
    "\n",
    "# x = np.linspace(0,1,n_ftrs)\n",
    "\n",
    "# X, y = drm.synt_mix(i_sig,n_ftrs,x=x,sigma = noise,n1 = scl,n2 = sft,n3 = scl,n4 = sft)\n",
    "\n",
    "# gs = gridspec.GridSpec(1, 2)\n",
    "# plt.figure(figsize=(8,3)) \n",
    "# ax1 = plt.subplot(gs[0, 0])\n",
    "# ax2 = plt.subplot(gs[0, 1])\n",
    "# ax1.set_title('Inliers')\n",
    "# ax2.set_title('Outliers')\n",
    "\n",
    "# inliers = X[y==i_sig]\n",
    "# outliers = X[y!=i_sig]\n",
    "# outliers_y = y[y!=i_sig]\n",
    "\n",
    "# for i in range(0,45,5):\n",
    "#     ax1.plot(inliers[i],'b')\n",
    "#     ax2.plot(outliers[i],drm.COLORS[outliers_y[i]])\n",
    "    \n",
    "# plt.subplots_adjust(hspace=0.3,left=0.1, right=0.9, top=0.9, bottom=0.1)"
   ]
  },
  {
   "cell_type": "code",
   "execution_count": null,
   "metadata": {},
   "outputs": [],
   "source": []
  },
  {
   "cell_type": "code",
   "execution_count": null,
   "metadata": {},
   "outputs": [],
   "source": []
  },
  {
   "cell_type": "code",
   "execution_count": null,
   "metadata": {},
   "outputs": [],
   "source": []
  },
  {
   "cell_type": "code",
   "execution_count": null,
   "metadata": {},
   "outputs": [],
   "source": []
  },
  {
   "cell_type": "code",
   "execution_count": null,
   "metadata": {},
   "outputs": [],
   "source": []
  },
  {
   "cell_type": "code",
   "execution_count": null,
   "metadata": {},
   "outputs": [],
   "source": []
  },
  {
   "cell_type": "code",
   "execution_count": null,
   "metadata": {},
   "outputs": [],
   "source": []
  },
  {
   "cell_type": "code",
   "execution_count": null,
   "metadata": {},
   "outputs": [],
   "source": []
  },
  {
   "cell_type": "code",
   "execution_count": null,
   "metadata": {},
   "outputs": [],
   "source": []
  }
 ],
 "metadata": {
  "anaconda-cloud": {},
  "kernelspec": {
   "display_name": "Python 3",
   "language": "python",
   "name": "python3"
  },
  "language_info": {
   "codemirror_mode": {
    "name": "ipython",
    "version": 3
   },
   "file_extension": ".py",
   "mimetype": "text/x-python",
   "name": "python",
   "nbconvert_exporter": "python",
   "pygments_lexer": "ipython3",
   "version": "3.6.6"
  }
 },
 "nbformat": 4,
 "nbformat_minor": 1
}
