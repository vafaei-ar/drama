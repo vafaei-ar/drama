{
 "cells": [
  {
   "cell_type": "markdown",
   "metadata": {},
   "source": [
    "# Unsupervised outliers detection (event detection)"
   ]
  },
  {
   "cell_type": "code",
   "execution_count": 1,
   "metadata": {},
   "outputs": [],
   "source": [
    "import drama as drm\n",
    "import numpy as np\n",
    "import matplotlib.pylab as plt\n",
    "from matplotlib import gridspec\n",
    "\n",
    "%matplotlib inline"
   ]
  },
  {
   "cell_type": "markdown",
   "metadata": {},
   "source": [
    "## Signal synthesis"
   ]
  },
  {
   "cell_type": "code",
   "execution_count": 3,
   "metadata": {},
   "outputs": [
    {
     "data": {
      "image/png": "[encoded data removed]",
      "text/plain": [
       "<matplotlib.figure.Figure at 0x7fb4f04befd0>"
      ]
     },
     "metadata": {},
     "output_type": "display_data"
    }
   ],
   "source": [
    "i_sig = 1\n",
    "n_ftrs = 5000\n",
    "noise = 0.2\n",
    "# noise = 0.0\n",
    "scl = 0.01\n",
    "sft = 0.01\n",
    "\n",
    "# x = np.tile(np.linspace(0,1,n_ftrs),2)\n",
    "\n",
    "X, y = drm.synt_event(i_sig, n_ftrs,n_inlier=500,n_outlier=50,\n",
    "                      sigma = noise,n1 = scl,n2 = sft,n3 = scl,n4 = sft,\n",
    "                      mu=[0.75,0.76],amp=[0.2,0.3],sig=[0.005,0.01])\n",
    "\n",
    "gs = gridspec.GridSpec(1, 2)\n",
    "plt.figure(figsize=(8,3)) \n",
    "ax1 = plt.subplot(gs[0, 0])\n",
    "ax2 = plt.subplot(gs[0, 1])\n",
    "ax1.set_title('Inliers')\n",
    "ax2.set_title('Outliers')\n",
    "\n",
    "inliers = X[y==0]\n",
    "outliers = X[y==1]\n",
    "for i in range(10):\n",
    "    ax1.plot(inliers[i],'b')\n",
    "    ax2.plot(outliers[i],'r')\n",
    "# plt.savefig('Huge_data.jpg')"
   ]
  },
  {
   "cell_type": "markdown",
   "metadata": {},
   "source": [
    "## Outlier detection"
   ]
  },
  {
   "cell_type": "code",
   "execution_count": null,
   "metadata": {
    "collapsed": true
   },
   "outputs": [],
   "source": [
    "n_try = 5\n",
    "\n",
    "result = []\n",
    "for i in range(n_try):\n",
    "    res = drm.unsupervised_outlier_finder_all(X)\n",
    "    arr,drts,metrs = drm.result_array(res,y,'real')\n",
    "    result.append(arr)\n",
    "result = np.array(result)"
   ]
  },
  {
   "cell_type": "code",
   "execution_count": null,
   "metadata": {
    "collapsed": true
   },
   "outputs": [],
   "source": [
    "drm.plot_table(np.mean(result,axis=0),drts,metrs)"
   ]
  },
  {
   "cell_type": "code",
   "execution_count": null,
   "metadata": {
    "collapsed": true
   },
   "outputs": [],
   "source": [
    "lof_all = np.zeros((n_try,3))\n",
    "ifr_all = np.zeros((n_try,3))\n",
    "df = drm.sk_check(X,X,y,[1])\n",
    "for i in range(n_try):\n",
    "    for j,scr in enumerate(['AUC','MCC','RWS']):\n",
    "        lof_all[i,j] = df[scr][0]\n",
    "        ifr_all[i,j] = df[scr][1]"
   ]
  },
  {
   "cell_type": "code",
   "execution_count": null,
   "metadata": {
    "collapsed": true
   },
   "outputs": [],
   "source": [
    "auc = np.sum((result[:, :, :, 0].T>lof_all[:, 0]) & (result[:, :, :, 0].T>ifr_all[:, 0]),axis=-1).T\n",
    "mcc = np.sum((result[:, :, :, 1].T>lof_all[:, 1]) & (result[:, :, :, 1].T>ifr_all[:, 1]),axis=-1).T\n",
    "rws = np.sum((result[:, :, :, 2].T>lof_all[:, 2]) & (result[:, :, :, 2].T>ifr_all[:, 2]),axis=-1).T\n",
    "\n",
    "fig = plt.figure(figsize=(20,10))\n",
    "plt.clf()\n",
    "ax = fig.add_subplot(111)\n",
    "ax.set_aspect('auto')\n",
    "res = ax.imshow(auc, cmap=plt.cm.jet,interpolation='nearest')\n",
    "\n",
    "width, height = auc.shape\n",
    "\n",
    "for x in xrange(width):\n",
    "    for y in xrange(height):\n",
    "        ax.annotate('AUC: {:d}\\n MCC: {:d}\\n RWS: {:d}'.format(auc[x][y],mcc[x][y],rws[x][y]), xy=(y, x), \n",
    "                    horizontalalignment='center',\n",
    "                    verticalalignment='center',fontsize=18);\n",
    "\n",
    "plt.xticks(range(10),metrs,fontsize=15)\n",
    "plt.yticks(range(5), drts,fontsize=15)\n",
    "\n",
    "plt.title('Number of successes (LOF and i-forest) out of 20 data set',fontsize=25)\n",
    "plt.annotate('** Colors depend on AUC.', (0,0), (0, -30), xycoords='axes fraction',\n",
    "             textcoords='offset points', va='top',fontsize=15)\n",
    "\n",
    "# plt.savefig('AND_success.jpg',dpi=150,bbox_inches='tight')"
   ]
  },
  {
   "cell_type": "code",
   "execution_count": null,
   "metadata": {
    "collapsed": true
   },
   "outputs": [],
   "source": []
  },
  {
   "cell_type": "code",
   "execution_count": null,
   "metadata": {
    "collapsed": true
   },
   "outputs": [],
   "source": []
  },
  {
   "cell_type": "code",
   "execution_count": null,
   "metadata": {
    "collapsed": true
   },
   "outputs": [],
   "source": []
  },
  {
   "cell_type": "code",
   "execution_count": null,
   "metadata": {
    "collapsed": true
   },
   "outputs": [],
   "source": []
  },
  {
   "cell_type": "code",
   "execution_count": null,
   "metadata": {
    "collapsed": true
   },
   "outputs": [],
   "source": []
  }
 ],
 "metadata": {
  "anaconda-cloud": {},
  "kernelspec": {
   "display_name": "Python 2",
   "language": "python",
   "name": "python2"
  },
  "language_info": {
   "codemirror_mode": {
    "name": "ipython",
    "version": 2
   },
   "file_extension": ".py",
   "mimetype": "text/x-python",
   "name": "python",
   "nbconvert_exporter": "python",
   "pygments_lexer": "ipython2",
   "version": "2.7.15"
  }
 },
 "nbformat": 4,
 "nbformat_minor": 1
}
